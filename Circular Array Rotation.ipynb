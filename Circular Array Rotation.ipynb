{
 "cells": [
  {
   "cell_type": "code",
   "execution_count": 12,
   "metadata": {},
   "outputs": [],
   "source": [
    "def circularArrayRotation(a, k, queries):   \n",
    "    rotated_array = a\n",
    "    n = len(a)\n",
    "    if k == n:\n",
    "        return [rotated_array[i] for i in queries], rotated_array\n",
    "    elif n < k:        \n",
    "        for x in range(k):\n",
    "            rotated_array = [rotated_array[-1]] + rotated_array[0:-1]\n",
    "    else:\n",
    "        rotated_array = a[-k:] + a[:-k]\n",
    "    \n",
    "    return [rotated_array[i] for i in queries], rotated_array"
   ]
  },
  {
   "cell_type": "code",
   "execution_count": 13,
   "metadata": {},
   "outputs": [
    {
     "name": "stdout",
     "output_type": "stream",
     "text": [
      "Original array: [1, 2, 3, 4]\n",
      "Rotated arrar: [3, 4, 1, 2]\n",
      "Queried elements: [3, 4, 1]\n"
     ]
    }
   ],
   "source": [
    "a = [1,2,3,4]\n",
    "k = 2\n",
    "queries = [0,1,2]\n",
    "a_r = []\n",
    "\n",
    "result, a_r = circularArrayRotation(a, k, queries)\n",
    "\n",
    "print (f\"Original array: {a}\")\n",
    "print (f\"Rotated arrar: {a_r}\")\n",
    "print (f\"Queried elements: {result}\")\n"
   ]
  },
  {
   "cell_type": "code",
   "execution_count": 10,
   "metadata": {},
   "outputs": [
    {
     "data": {
      "text/plain": [
       "[3, 4, 1, 2]"
      ]
     },
     "execution_count": 10,
     "metadata": {},
     "output_type": "execute_result"
    }
   ],
   "source": [
    "a[-k:] + a[:-k]"
   ]
  },
  {
   "cell_type": "code",
   "execution_count": null,
   "metadata": {},
   "outputs": [],
   "source": []
  }
 ],
 "metadata": {
  "kernelspec": {
   "display_name": "Python 3",
   "language": "python",
   "name": "python3"
  },
  "language_info": {
   "codemirror_mode": {
    "name": "ipython",
    "version": 3
   },
   "file_extension": ".py",
   "mimetype": "text/x-python",
   "name": "python",
   "nbconvert_exporter": "python",
   "pygments_lexer": "ipython3",
   "version": "3.7.0"
  }
 },
 "nbformat": 4,
 "nbformat_minor": 2
}
