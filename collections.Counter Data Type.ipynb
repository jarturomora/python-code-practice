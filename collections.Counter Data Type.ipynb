{
 "cells": [
  {
   "cell_type": "markdown",
   "metadata": {},
   "source": [
    "# What is a Counter?\n",
    "\n",
    "A **Counter** is a container that keeps track of how many times equivalent values are added. subclass for counting hashable objects. It is an unordered collection where elements are stored as dictionary keys and their counts are stored as dictionary values. Counts are allowed to be any integer value including zero or negative counts.\n",
    "\n",
    "Operations with Counters are like playing with sets in Venn Diagram. In order to use a **Counter** you should import the _collections_ library.\n",
    "\n",
    "## References\n",
    "\n",
    "1. https://pymotw.com/2/collections/counter.html\n",
    "\n",
    "2. https://docs.python.org/2.7/library/collections.html#collections.Counter"
   ]
  },
  {
   "cell_type": "markdown",
   "metadata": {},
   "source": [
    "# Creating a Counter"
   ]
  },
  {
   "cell_type": "code",
   "execution_count": 1,
   "metadata": {
    "collapsed": true
   },
   "outputs": [],
   "source": [
    "from collections import Counter"
   ]
  },
  {
   "cell_type": "code",
   "execution_count": 23,
   "metadata": {
    "collapsed": true
   },
   "outputs": [],
   "source": [
    "# Initialization modes: All four have the same structure\n",
    "a = Counter(\"abcabb\") # sequence\n",
    "b = Counter(['a', 'b', 'c', 'a', 'b', 'b']) # list\n",
    "c = Counter({'a':2, 'b':3, 'c':1}) # Dictionary\n",
    "d = Counter(a=2, b=3, c=1) # Values"
   ]
  },
  {
   "cell_type": "code",
   "execution_count": 5,
   "metadata": {
    "collapsed": false
   },
   "outputs": [
    {
     "name": "stdout",
     "output_type": "stream",
     "text": [
      "a: Counter({'b': 3, 'a': 2, 'c': 1})\n",
      "b: Counter({'b': 3, 'a': 2, 'c': 1})\n",
      "c: Counter({'b': 3, 'a': 2, 'c': 1})\n",
      "d: Counter({'b': 3, 'a': 2, 'c': 1})\n"
     ]
    }
   ],
   "source": [
    "print \"a:\", a\n",
    "print \"b:\", b\n",
    "print \"c:\", c\n",
    "print \"d:\", d"
   ]
  },
  {
   "cell_type": "code",
   "execution_count": 28,
   "metadata": {
    "collapsed": false
   },
   "outputs": [
    {
     "name": "stdout",
     "output_type": "stream",
     "text": [
      "Counter({'eggs': 2, 'ham': 1})\n"
     ]
    }
   ],
   "source": [
    "# Creating a counter of other type of hashable objects\n",
    "h = Counter(['eggs', 'ham'])\n",
    "h.update(['eggs'])\n",
    "print h"
   ]
  },
  {
   "cell_type": "code",
   "execution_count": 9,
   "metadata": {
    "collapsed": false
   },
   "outputs": [
    {
     "name": "stdout",
     "output_type": "stream",
     "text": [
      "Initial empty Counter:  Counter()\n",
      "Updated Counter (round 1):  Counter({'a': 1, 'c': 1, 'b': 1})\n",
      "Update Counter (round 2):  Counter({'c': 3, 'a': 2, 'b': 1})\n"
     ]
    }
   ],
   "source": [
    "# An empty Counter can be populated with the update() method.\n",
    "f = Counter()\n",
    "print \"Initial empty Counter: \", f\n",
    "f.update(\"abc\")\n",
    "print \"Updated Counter (round 1): \", f\n",
    "f.update(a=1, c=2)\n",
    "print \"Update Counter (round 2): \", f"
   ]
  },
  {
   "cell_type": "markdown",
   "metadata": {},
   "source": [
    "# Accessing Counter Elements"
   ]
  },
  {
   "cell_type": "code",
   "execution_count": 15,
   "metadata": {
    "collapsed": false
   },
   "outputs": [
    {
     "name": "stdout",
     "output_type": "stream",
     "text": [
      "3\n"
     ]
    }
   ],
   "source": [
    "# A counter is accessed using the dictionary API, bellow we access to the counts of the element 'b' in the Counter a.\n",
    "print a['b']"
   ]
  },
  {
   "cell_type": "code",
   "execution_count": 16,
   "metadata": {
    "collapsed": false
   },
   "outputs": [
    {
     "name": "stdout",
     "output_type": "stream",
     "text": [
      "a : 2\n",
      "b : 3\n",
      "c : 1\n",
      "d : 0\n",
      "e : 0\n"
     ]
    }
   ],
   "source": [
    "# Counter does not raise KeyError for unknown items. If a value has not been seen in the input its count is 0.\n",
    "for letter in 'abcde':\n",
    "    print '%s : %d' % (letter, c[letter])"
   ]
  },
  {
   "cell_type": "code",
   "execution_count": 18,
   "metadata": {
    "collapsed": false
   },
   "outputs": [
    {
     "name": "stdout",
     "output_type": "stream",
     "text": [
      "Printing the Counter object:  Counter({'b': 3, 'a': 2, 'c': 1})\n",
      "Printing the Counter.elements() as a list:  ['a', 'a', 'c', 'b', 'b', 'b']\n"
     ]
    }
   ],
   "source": [
    "# The elements() method returns an iterator that produces all of the items known to the Counter.\n",
    "# The order of elements is not guaranteed, and items with counts less than zero are not included.\n",
    "g = Counter('extremely')\n",
    "g['z'] = 0\n",
    "print \"Printing the Counter object: \", c\n",
    "print \"Printing the Counter.elements() as a list: \", list(c.elements())"
   ]
  },
  {
   "cell_type": "code",
   "execution_count": 20,
   "metadata": {
    "collapsed": false
   },
   "outputs": [
    {
     "name": "stdout",
     "output_type": "stream",
     "text": [
      "All most common elements:  [('b', 3), ('a', 2), ('c', 1)]\n",
      "The two most common element:  [('b', 3), ('a', 2)]\n"
     ]
    }
   ],
   "source": [
    "# Use most_common() to produce a sequence of the n most frequently encountered input values and their respective counts.\n",
    "print \"All most common elements: \", c.most_common()\n",
    "print \"The two most common element: \", c.most_common(2)"
   ]
  },
  {
   "cell_type": "markdown",
   "metadata": {},
   "source": [
    "# Operations with Counters\n",
    "\n",
    "Working with counters is similar to working with sets, **remember that in math sets don't allow duplicates**, however since _Counters_ are like _bags_ you **will have duplicates in some operations**, bellow a graphical explanation is given.\n",
    "\n",
    "As starting point consider these two counters **C1** and **C2** to review the operations that can be made with counters' elements.\n",
    "\n",
    "![Original Counters](images/counters.png)"
   ]
  },
  {
   "cell_type": "code",
   "execution_count": 29,
   "metadata": {
    "collapsed": false
   },
   "outputs": [
    {
     "name": "stdout",
     "output_type": "stream",
     "text": [
      "C1:  Counter({'b': 3, 'a': 2, 'c': 1})\n",
      "C2:  Counter({'a': 2, 'b': 1, 'e': 1, 'h': 1, 'l': 1, 'p': 1, 't': 1})\n"
     ]
    }
   ],
   "source": [
    "c1 = Counter(\"abcabb\")\n",
    "c2 = Counter(\"alphabet\")\n",
    "print \"C1: \", c1\n",
    "print \"C2: \", c2"
   ]
  },
  {
   "cell_type": "markdown",
   "metadata": {},
   "source": [
    "## Two Counters Combined\n",
    "\n",
    "When you combine two Counters is similar that having two bags and putting all the elements in a sigle bag.\n",
    "\n",
    "**Important Note:** C1 + C2 = C2 + C1\n",
    "\n",
    "![C1 + C2](images/counters_c1_plus_c2.png)"
   ]
  },
  {
   "cell_type": "code",
   "execution_count": 34,
   "metadata": {
    "collapsed": false
   },
   "outputs": [
    {
     "name": "stdout",
     "output_type": "stream",
     "text": [
      "C1 + C2:  Counter({'a': 4, 'b': 4, 'c': 1, 'e': 1, 'h': 1, 'l': 1, 'p': 1, 't': 1})\n",
      "C2 + C1:  Counter({'a': 4, 'b': 4, 'c': 1, 'e': 1, 'h': 1, 'l': 1, 'p': 1, 't': 1})\n"
     ]
    }
   ],
   "source": [
    "print \"C1 + C2: \", c1 + c2\n",
    "print \"C2 + C1: \", c2 + c1"
   ]
  },
  {
   "cell_type": "markdown",
   "metadata": {},
   "source": [
    "## Substraction\n",
    "\n",
    "When you substract one Counter from another, you \"remove\" from C1 those elements that coincide with C2.\n",
    "\n",
    "**Important Note:** C1 - C2 != C2 - C1\n",
    "\n",
    "![C1 - C2](images/counters_c1_minus_c2.png)"
   ]
  },
  {
   "cell_type": "code",
   "execution_count": 31,
   "metadata": {
    "collapsed": false
   },
   "outputs": [
    {
     "name": "stdout",
     "output_type": "stream",
     "text": [
      "C1 - C2:  Counter({'b': 2, 'c': 1})\n",
      "C2 - C1:  Counter({'h': 1, 't': 1, 'e': 1, 'l': 1, 'p': 1})\n"
     ]
    }
   ],
   "source": [
    "print \"C1 - C2: \", c1 - c2\n",
    "print \"C2 - C1: \", c2 - c1"
   ]
  },
  {
   "cell_type": "markdown",
   "metadata": {},
   "source": [
    "## Intersection (Taking Minimum Counts)\n",
    "\n",
    "Intersection works like an intersection of two sets in math, both counters share the common elements in the intersection space.\n",
    "\n",
    "**Important Note:** C1 & C2 = C2 & C1\n",
    "\n",
    "![C1 intserction C2](images/counters_intersection.png)"
   ]
  },
  {
   "cell_type": "code",
   "execution_count": 33,
   "metadata": {
    "collapsed": false
   },
   "outputs": [
    {
     "name": "stdout",
     "output_type": "stream",
     "text": [
      "C1 intersection C2 (taking positive minimums):  Counter({'a': 2, 'b': 1})\n",
      "C2 intersection C1 (taking positive minimums):  Counter({'a': 2, 'b': 1})\n"
     ]
    }
   ],
   "source": [
    "print \"C1 intersection C2 (taking positive minimums): \", c1 & c2\n",
    "print \"C2 intersection C1 (taking positive minimums): \", c2 & c1"
   ]
  },
  {
   "cell_type": "markdown",
   "metadata": {},
   "source": [
    "## Union (taking maximum positve)\n",
    "\n",
    "The union works like a union of two sets in math, we mix the elements of the two counters with replacement of the common, that actually are in the intersection.\n",
    "\n",
    "**Important Note:** C1 | C2 = C2 | C1\n",
    "\n",
    "![C1 | C2](images/counters_union.png)"
   ]
  },
  {
   "cell_type": "code",
   "execution_count": 35,
   "metadata": {
    "collapsed": false
   },
   "outputs": [
    {
     "name": "stdout",
     "output_type": "stream",
     "text": [
      "C1 | C2:  Counter({'b': 3, 'a': 2, 'c': 1, 'e': 1, 'h': 1, 'l': 1, 'p': 1, 't': 1})\n",
      "C2 | C1:  Counter({'b': 3, 'a': 2, 'c': 1, 'e': 1, 'h': 1, 'l': 1, 'p': 1, 't': 1})\n"
     ]
    }
   ],
   "source": [
    "print \"C1 | C2: \", c1 | c2\n",
    "print \"C2 | C1: \", c2 | c1"
   ]
  },
  {
   "cell_type": "markdown",
   "metadata": {},
   "source": [
    "## The _substract()_ Method\n",
    "\n",
    "This method is dificult to represent using a Venn Diagram, since it takes the counts of the elements on the counters and substract them, as a result we will have a count of zero for those elements with similar counts, and a positive or negative number for with the difference from those elements with diferent counts, see the code bellow by taking special attention to the counts of **e** that are negative in h."
   ]
  },
  {
   "cell_type": "code",
   "execution_count": 43,
   "metadata": {
    "collapsed": false
   },
   "outputs": [
    {
     "name": "stdout",
     "output_type": "stream",
     "text": [
      "h:              Counter({'a': 4, 'c': 2, 'b': 2, 'd': 1, 'e': -2})\n",
      "i:              Counter({'a': 6, 'b': 2, 'c': 1, 'e': 1, 'd': 1})\n",
      "h.subtract(i):  Counter({'c': 1, 'b': 0, 'd': 0, 'a': -2, 'e': -3})\n"
     ]
    }
   ],
   "source": [
    "h = Counter(a=4, b=2, c=2, d=1, e=-2)\n",
    "i = Counter(a=6, b=2, c=1, d=1, e=1)\n",
    "print \"h:             \", h\n",
    "print \"i:             \", i\n",
    "h.subtract(i)\n",
    "print \"h.subtract(i): \", h"
   ]
  },
  {
   "cell_type": "code",
   "execution_count": null,
   "metadata": {
    "collapsed": true
   },
   "outputs": [],
   "source": []
  }
 ],
 "metadata": {
  "anaconda-cloud": {},
  "kernelspec": {
   "display_name": "Python [default]",
   "language": "python",
   "name": "python2"
  },
  "language_info": {
   "codemirror_mode": {
    "name": "ipython",
    "version": 2
   },
   "file_extension": ".py",
   "mimetype": "text/x-python",
   "name": "python",
   "nbconvert_exporter": "python",
   "pygments_lexer": "ipython2",
   "version": "2.7.12"
  }
 },
 "nbformat": 4,
 "nbformat_minor": 1
}
