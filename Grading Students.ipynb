{
 "cells": [
  {
   "cell_type": "markdown",
   "metadata": {},
   "source": [
    "# Grading Students"
   ]
  },
  {
   "cell_type": "code",
   "execution_count": 3,
   "metadata": {},
   "outputs": [],
   "source": [
    "def find_next_multiple(number):\n",
    "    reminder = number%5\n",
    "    next_multiple = number + (5 - reminder)\n",
    "    if  reminder == 0:\n",
    "        return number\n",
    "    elif (next_multiple - number) < 3:\n",
    "        return next_multiple\n",
    "    else:\n",
    "        return number\n",
    "#\n",
    "# Complete the gradingStudents function below.\n",
    "#\n",
    "def gradingStudents(grades):\n",
    "    #\n",
    "    # Write your code here.\n",
    "    #    \n",
    "    num_students = grades[0]\n",
    "    grades = grades[1:num_students + 1]\n",
    "    result = [x if x < 38 else find_next_multiple(x) for x in grades]\n",
    "    return result"
   ]
  },
  {
   "cell_type": "code",
   "execution_count": 4,
   "metadata": {},
   "outputs": [
    {
     "data": {
      "text/plain": [
       "[75, 67, 40, 33]"
      ]
     },
     "execution_count": 4,
     "metadata": {},
     "output_type": "execute_result"
    }
   ],
   "source": [
    "grades = [4,73,67,38,33]\n",
    "\n",
    "gradingStudents(grades)"
   ]
  },
  {
   "cell_type": "code",
   "execution_count": null,
   "metadata": {},
   "outputs": [],
   "source": []
  }
 ],
 "metadata": {
  "kernelspec": {
   "display_name": "Python 3",
   "language": "python",
   "name": "python3"
  },
  "language_info": {
   "codemirror_mode": {
    "name": "ipython",
    "version": 3
   },
   "file_extension": ".py",
   "mimetype": "text/x-python",
   "name": "python",
   "nbconvert_exporter": "python",
   "pygments_lexer": "ipython3",
   "version": "3.7.0"
  }
 },
 "nbformat": 4,
 "nbformat_minor": 2
}
