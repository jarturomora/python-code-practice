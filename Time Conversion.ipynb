{
 "cells": [
  {
   "cell_type": "code",
   "execution_count": 20,
   "metadata": {},
   "outputs": [],
   "source": [
    "def timeConversion(s):\n",
    "    #\n",
    "    # Write your code here.\n",
    "    #\n",
    "    result = \"\"\n",
    "    #print(s[2:-2])\n",
    "    if s[-2:] == \"PM\" and s[0:2] != \"12\":\n",
    "        new_hour = 24 - (12 - int(s[:2]))\n",
    "        result = str(new_hour) + s[2:-2]\n",
    "    elif s[-2:] == \"AM\" and s[0:2] == \"12\":\n",
    "        result = \"00\" + s[2:-2]\n",
    "    elif s[-2:] == \"PM\" and s[0:2] == \"12\":\n",
    "        result = s[0:-2]\n",
    "    else:\n",
    "        result = s[0:-2]\n",
    "\n",
    "    return result"
   ]
  },
  {
   "cell_type": "code",
   "execution_count": 21,
   "metadata": {},
   "outputs": [
    {
     "name": "stdout",
     "output_type": "stream",
     "text": [
      "12:40:22\n"
     ]
    }
   ],
   "source": [
    "print (timeConversion(\"12:40:22PM\"))"
   ]
  },
  {
   "cell_type": "code",
   "execution_count": null,
   "metadata": {},
   "outputs": [],
   "source": []
  }
 ],
 "metadata": {
  "kernelspec": {
   "display_name": "Python 3",
   "language": "python",
   "name": "python3"
  },
  "language_info": {
   "codemirror_mode": {
    "name": "ipython",
    "version": 3
   },
   "file_extension": ".py",
   "mimetype": "text/x-python",
   "name": "python",
   "nbconvert_exporter": "python",
   "pygments_lexer": "ipython3",
   "version": "3.7.0"
  }
 },
 "nbformat": 4,
 "nbformat_minor": 2
}
