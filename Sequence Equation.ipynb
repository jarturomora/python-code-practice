{
 "cells": [
  {
   "cell_type": "code",
   "execution_count": 45,
   "metadata": {},
   "outputs": [],
   "source": [
    "def permutationEquation(p):\n",
    "    result = []\n",
    "    for x in range(len(p)):\n",
    "        x_pos = p.index(x + 1) + 1\n",
    "        print(x_pos)\n",
    "        y_pos = p.index(x_pos) + 1 \n",
    "        result.append(y_pos)\n",
    "\n",
    "    return result"
   ]
  },
  {
   "cell_type": "code",
   "execution_count": 47,
   "metadata": {},
   "outputs": [
    {
     "name": "stdout",
     "output_type": "stream",
     "text": [
      "3\n",
      "1\n",
      "2\n",
      "[2, 3, 1]\n"
     ]
    }
   ],
   "source": [
    "p = [2,3, 1]\n",
    "# p = [5, 2, 1, 3, 4]\n",
    "\n",
    "print (permutationEquation(p))"
   ]
  },
  {
   "cell_type": "code",
   "execution_count": null,
   "metadata": {},
   "outputs": [],
   "source": []
  }
 ],
 "metadata": {
  "kernelspec": {
   "display_name": "Python 3",
   "language": "python",
   "name": "python3"
  },
  "language_info": {
   "codemirror_mode": {
    "name": "ipython",
    "version": 3
   },
   "file_extension": ".py",
   "mimetype": "text/x-python",
   "name": "python",
   "nbconvert_exporter": "python",
   "pygments_lexer": "ipython3",
   "version": "3.7.0"
  }
 },
 "nbformat": 4,
 "nbformat_minor": 2
}
